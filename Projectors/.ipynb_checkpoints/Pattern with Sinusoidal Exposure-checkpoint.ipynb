{
 "cells": [
  {
   "cell_type": "code",
   "execution_count": 182,
   "id": "74f68371",
   "metadata": {},
   "outputs": [],
   "source": [
    "import numpy as np\n",
    "import math\n",
    "import matplotlib.pyplot as plt\n"
   ]
  },
  {
   "cell_type": "code",
   "execution_count": 502,
   "id": "f03c3039",
   "metadata": {
    "scrolled": false
   },
   "outputs": [],
   "source": [
    "# Enter Here frequency of the oscillating system\n",
    "freq = 18 # Hz\n",
    "\n",
    "patternPeriodEqualExposition = True # True if post illumiation is equal to Exposure\n",
    "color = \"Red\"\n",
    "# Choose from Red, Green, Yellow, Blue, Magenta, Cyan, White\n",
    "\n",
    "triggerIn = True # True if you want black screens between bitplanes\n",
    "\n",
    "cleanDMDAfterExposure = False # True if you want to clean DMD after exposure\n",
    "\n",
    "\n",
    "slices = 24 #Amount of bitplanes\n",
    "postIllu = 10000 #no need to fill if patternPeriodEqual is True\n",
    "fullSinus = True # True if you want full sinusoid, False if you want half"
   ]
  },
  {
   "cell_type": "code",
   "execution_count": 503,
   "id": "915cc2a6",
   "metadata": {},
   "outputs": [],
   "source": [
    "if(fullSinus):\n",
    "    factor = 2\n",
    "else:\n",
    "    factor = 1\n",
    "    \n",
    "if(color == \"Red\"):\n",
    "    colorCode = 1\n",
    "if(color == \"Green\"):\n",
    "    colorCode = 2\n",
    "if(color == \"Yellow\"):\n",
    "    colorCode = 3\n",
    "if(color == \"Blue\"):\n",
    "    colorCode = 4\n",
    "if(color == \"Magenta\"):\n",
    "    colorCode = 5\n",
    "if(color == \"Cyan\"):\n",
    "    colorCode = 6\n",
    "if(color == \"White\"):\n",
    "    colorCode = 7\n",
    "    \n",
    "if(cleanDMDAfterExposure):\n",
    "    cleanDMD = colorCode\n",
    "else:\n",
    "    cleanDMD = ''\n",
    "    \n",
    "    \n",
    "period = (1/freq) # Period\n",
    "A = slices/factor  # Amplitude (If you want the full sinusoid: divide by two)\n",
    "T = period*1000000 # period in microsec\n"
   ]
  },
  {
   "cell_type": "code",
   "execution_count": 504,
   "id": "fd7fc681",
   "metadata": {},
   "outputs": [],
   "source": [
    "if(cleanDMDAfterExposure):\n",
    "    cleanDMD = 2\n",
    "else:\n",
    "    cleanDMD = ''\n",
    "addedCode = \"0x\"+str(cleanDMD)+str(colorCode) # before: cleanDMD too\n",
    "bitplaneParam = []\n",
    "if(triggerIn):\n",
    "    bitplaneParam = [\"0x4\"+str(cleanDMD)+str(colorCode)+\"121\", addedCode+\"124\", addedCode+\"128\", addedCode+\"12c\", addedCode+\"130\", addedCode+\"134\", addedCode+\"138\", addedCode+\"13c\", addedCode+\"100\", addedCode+\"104\", addedCode+\"108\", addedCode+\"10c\", addedCode+\"110\", addedCode+\"114\", addedCode+\"11b\", addedCode+\"11c\", addedCode+\"140\", addedCode+\"144\", addedCode+\"148\", addedCode+\"14c\", addedCode+\"150\", addedCode+\"154\", addedCode+\"158\", addedCode+\"15c\"]    \n",
    "else:\n",
    "    bitplaneParam = [\"0x4\"+str(cleanDMD)+str(colorCode)+\"121\", addedCode+\"127\", addedCode+\"12b\", addedCode+\"12f\", addedCode+\"133\", addedCode+\"137\", addedCode+\"13b\", addedCode+\"13f\", addedCode+\"103\", addedCode+\"107\", addedCode+\"10b\", addedCode+\"10f\", addedCode+\"113\", addedCode+\"117\", addedCode+\"11b\", addedCode+\"11f\", addedCode+\"143\", addedCode+\"147\", addedCode+\"14b\", addedCode+\"14f\", addedCode+\"153\", addedCode+\"157\", addedCode+\"15b\", addedCode+\"15f\"]"
   ]
  },
  {
   "cell_type": "code",
   "execution_count": 505,
   "id": "9ea61241",
   "metadata": {},
   "outputs": [],
   "source": [
    "# bitplaneParam = []\n",
    "# if(color == \"Red\"):\n",
    "#     bitplaneParam = [\"0x41121\", \"0x1127\", \"0x112b\", \"0x112f\", \"0x1133\", \"0x1137\", \"0x113b\", \"0x113f\", \"0x1103\", \"0x1107\", \"0x110b\", \"0x110f\", \"0x1113\", \"0x1117\", \"0x111b\", \"0x111f\", \"0x1143\", \"0x1147\", \"0x114b\", \"0x114f\", \"0x1153\", \"0x1157\", \"0x115b\", \"0x115f\"]\n",
    "# if(color == \"Green\"):\n",
    "#     bitplaneParam = [\"0x62120\", \"0x22128\", \"0x2212c\", \"0x22130\", \"0x22134\", \"0x22138\", \"0x2213c\", \"0x22100\", \"0x22104\", \"0x22108\", \"0x2210c\", \"0x22110\", \"0x22110\", \"0x22114\", \"0x22118\", \"0x2211c\", \"0x22140\", \"0x22144\", \"0x22148\", \"0x2214c\", \"0x22150\", \"0x22154\", \"0x22158\", \"0x2215c\"]\n",
    "# if(color == \"Yellow\"):\n",
    "#     bitplaneParam = [\"0x43125\", \"0x3127\", \"0x312b\", \"0x312f\", \"0x3133\", \"0x3137\", \"0x313b\", \"0x313f\", \"0x3103\", \"0x3107\", \"0x310b\", \"0x310f\", \"0x3113\", \"0x3117\", \"0x311b\", \"0x311f\", \"0x3143\", \"0x3147\", \"0x314b\", \"0x314f\", \"0x3153\", \"0x3157\", \"0x315b\", \"0x315f\"]\n",
    "# if(color == \"Blue\"):\n",
    "#     bitplaneParam = [\"0x44121\", \"0x4127\", \"0x412b\", \"0x412f\", \"0x4133\", \"0x4137\", \"0x413b\", \"0x413f\", \"0x4103\", \"0x4107\", \"0x410b\", \"0x410f\", \"0x4113\", \"0x4117\", \"0x411b\", \"0x411f\", \"0x4143\", \"0x4147\", \"0x414b\", \"0x414f\", \"0x4153\", \"0x4157\", \"0x415b\", \"0x415f\"]\n",
    "# if(color == \"Magenta\"):\n",
    "#     bitplaneParam = [\"0x45121\", \"0x5127\", \"0x512b\", \"0x512f\", \"0x5133\", \"0x5137\", \"0x513b\", \"0x513f\", \"0x5103\", \"0x5107\", \"0x510b\", \"0x510f\", \"0x5113\", \"0x5117\", \"0x511b\", \"0x511f\", \"0x5143\", \"0x5147\", \"0x514b\", \"0x514f\", \"0x5153\", \"0x5157\", \"0x515b\", \"0x515f\"]\n",
    "# if(color == \"Cyan\"):\n",
    "#     bitplaneParam = [\"0x46121\", \"0x6127\", \"0x612b\", \"0x612f\", \"0x6133\", \"0x6137\", \"0x613b\", \"0x613f\", \"0x6103\", \"0x6107\", \"0x610b\", \"0x610f\", \"0x6113\", \"0x6117\", \"0x611b\", \"0x611f\", \"0x6143\", \"0x6147\", \"0x614b\", \"0x614f\", \"0x6153\", \"0x6157\", \"0x615b\", \"0x615f\"]\n",
    "# if(color == \"White\"):\n",
    "#     bitplaneParam = [\"0x47121\", \"0x7127\", \"0x712b\", \"0x712f\", \"0x7133\", \"0x7137\", \"0x713b\", \"0x713f\", \"0x7103\", \"0x7107\", \"0x710b\", \"0x710f\", \"0x7113\", \"0x7117\", \"0x711b\", \"0x711f\", \"0x7143\", \"0x7147\", \"0x714b\", \"0x714f\", \"0x7153\", \"0x7157\", \"0x715b\", \"0x715f\"]"
   ]
  },
  {
   "cell_type": "code",
   "execution_count": 506,
   "id": "969fa665",
   "metadata": {},
   "outputs": [
    {
     "data": {
      "text/plain": [
       "24"
      ]
     },
     "execution_count": 506,
     "metadata": {},
     "output_type": "execute_result"
    }
   ],
   "source": [
    "len(bitplaneParam)"
   ]
  },
  {
   "cell_type": "code",
   "execution_count": 507,
   "id": "158e81be",
   "metadata": {},
   "outputs": [],
   "source": [
    "# bitplaneParam"
   ]
  },
  {
   "cell_type": "code",
   "execution_count": 508,
   "id": "694198be",
   "metadata": {},
   "outputs": [
    {
     "data": {
      "text/plain": [
       "55555.555555555555"
      ]
     },
     "execution_count": 508,
     "metadata": {},
     "output_type": "execute_result"
    }
   ],
   "source": [
    "T"
   ]
  },
  {
   "cell_type": "code",
   "execution_count": 509,
   "id": "4784504f",
   "metadata": {},
   "outputs": [
    {
     "name": "stdout",
     "output_type": "stream",
     "text": [
      "Sum 24 222222.22222222216\n",
      "0 1 3594.7089597572335\n",
      "1 1 3349.7354846872117\n",
      "2 1 2876.483072035384\n",
      "3 1 2207.203091637375\n",
      "4 1 1387.505868119857\n",
      "5 1 473.25241265183104\n",
      "6 1 473.2524126518292\n",
      "7 1 1387.505868119857\n",
      "8 1 2207.203091637377\n",
      "9 1 2876.4830720353784\n",
      "10 1 3349.7354846872136\n",
      "11 1 3594.7089597572353\n",
      "12 1 3594.70895975723\n",
      "13 1 3349.7354846872145\n",
      "14 1 2876.483072035381\n",
      "15 1 2207.2030916373787\n",
      "16 1 1387.505868119857\n",
      "17 1 473.25241265183286\n",
      "18 1 473.2524126518274\n",
      "19 1 1387.5058681198552\n",
      "20 1 2207.2030916373787\n",
      "21 1 2876.4830720353784\n",
      "22 1 3349.7354846872076\n",
      "23 1 3594.7089597572417\n",
      "Sum 24 55555.555555555555\n"
     ]
    }
   ],
   "source": [
    "# xs = np.linspace(0,A*2,slices)\n",
    "xs = np.arange(0,slices+1)\n",
    "ys = np.sin(2 * np.pi / 1/(A*2) * xs) * T\n",
    "\n",
    "# xs = np.linspace(0,T,slices)\n",
    "# ys = np.sin(2 * np.pi / 1/T * xs) * A\n",
    "\n",
    "# xs = np.arange(1,25)\n",
    "# ys = np.sin(2 * np.pi * 1/25 * xs) * A/T\n",
    "\n",
    "sumy = 0\n",
    "sumx = 0\n",
    "for i in range(0, slices):\n",
    "#     print(i, xs[i+1]-xs[i], abs(ys[i+1]-ys[i]))\n",
    "    sumy+=abs(ys[i+1]-ys[i])\n",
    "    sumx+=abs(xs[i+1]-xs[i])\n",
    "\n",
    "print(\"Sum\", sumx, sumy)\n",
    "\n",
    "ys = np.sin(2 * np.pi / 1/(A*2) * xs) * T/(sumy/T)\n",
    "\n",
    "sumy = 0\n",
    "sumx = 0\n",
    "illuminationTime = []\n",
    "for i in range(0, slices):\n",
    "    print(i, xs[i+1]-xs[i], abs(ys[i+1]-ys[i]))\n",
    "    illuminationTime.append(round(abs(ys[i+1]-ys[i])))\n",
    "#     illuminationTime.append(round((ys[i+1]-ys[i])))\n",
    "\n",
    "    sumy+=abs(ys[i+1]-ys[i])\n",
    "    sumx+=abs(xs[i+1]-xs[i])\n",
    "\n",
    "print(\"Sum\", sumx, sumy)"
   ]
  },
  {
   "cell_type": "code",
   "execution_count": 510,
   "id": "917e08b5",
   "metadata": {
    "scrolled": false
   },
   "outputs": [
    {
     "name": "stdout",
     "output_type": "stream",
     "text": [
      "R 0 :  3595\n",
      "R 1 :  3350\n",
      "R 2 :  2876\n",
      "R 3 :  2207\n",
      "R 4 :  1388\n",
      "R 5 :  473\n",
      "R 6 :  473\n",
      "R 7 :  1388\n",
      "G 0 :  2207\n",
      "G 1 :  2876\n",
      "G 2 :  3350\n",
      "G 3 :  3595\n",
      "G 4 :  3595\n",
      "G 5 :  3350\n",
      "G 6 :  2876\n",
      "G 7 :  2207\n",
      "B 0 :  1388\n",
      "B 1 :  473\n",
      "B 2 :  473\n",
      "B 3 :  1388\n",
      "B 4 :  2207\n",
      "B 5 :  2876\n",
      "B 6 :  3350\n",
      "B 7 :  3595\n"
     ]
    }
   ],
   "source": [
    "len(illuminationTime), illuminationTime\n",
    "for i in range(0, 8):\n",
    "    print(\"R\",i, \": \", illuminationTime[i])\n",
    "for i in range(8, 16):\n",
    "    print(\"G\",i%8, \": \", illuminationTime[i])\n",
    "for i in range(16, 24):\n",
    "    print(\"B\",i%8, \": \", illuminationTime[i])"
   ]
  },
  {
   "cell_type": "code",
   "execution_count": 511,
   "id": "53bd9dbf",
   "metadata": {},
   "outputs": [],
   "source": [
    "decToHex_illumination = []\n",
    "for i in range(0, len(illuminationTime)):\n",
    "    decToHex_illumination.append(hex(illuminationTime[i]))"
   ]
  },
  {
   "cell_type": "code",
   "execution_count": 512,
   "id": "65c50085",
   "metadata": {},
   "outputs": [
    {
     "name": "stderr",
     "output_type": "stream",
     "text": [
      "C:\\Users\\asier.marzo\\AppData\\Local\\Temp\\ipykernel_13060\\2763281562.py:5: MatplotlibDeprecationWarning: Passing the linefmt parameter positionally is deprecated since Matplotlib 3.5; the parameter will become keyword-only two minor releases later.\n",
      "  plt.stem(i, illuminationTime[i], 'r', )\n"
     ]
    },
    {
     "data": {
      "image/png": "[encoded data removed]",
      "text/plain": [
       "<Figure size 720x432 with 1 Axes>"
      ]
     },
     "metadata": {
      "needs_background": "light"
     },
     "output_type": "display_data"
    }
   ],
   "source": [
    "# Plotear la señal\n",
    "plt.figure(figsize=(10, 6))\n",
    "\n",
    "for i in range(0, len(illuminationTime)):\n",
    "    plt.stem(i, illuminationTime[i], 'r', )"
   ]
  },
  {
   "cell_type": "code",
   "execution_count": 513,
   "id": "98722710",
   "metadata": {},
   "outputs": [
    {
     "name": "stderr",
     "output_type": "stream",
     "text": [
      "C:\\Users\\asier.marzo\\AppData\\Local\\Temp\\ipykernel_13060\\492825542.py:4: MatplotlibDeprecationWarning: Passing the linefmt parameter positionally is deprecated since Matplotlib 3.5; the parameter will become keyword-only two minor releases later.\n",
      "  plt.stem(xs,ys, 'b', )\n",
      "C:\\Users\\asier.marzo\\AppData\\Local\\Temp\\ipykernel_13060\\492825542.py:7: MatplotlibDeprecationWarning: Passing the linefmt parameter positionally is deprecated since Matplotlib 3.5; the parameter will become keyword-only two minor releases later.\n",
      "  plt.stem(i,illuminationTime[i], 'r', )\n",
      "No artists with labels found to put in legend.  Note that artists whose label start with an underscore are ignored when legend() is called with no argument.\n"
     ]
    },
    {
     "data": {
      "image/png": "[encoded data removed]",
      "text/plain": [
       "<Figure size 720x432 with 1 Axes>"
      ]
     },
     "metadata": {
      "needs_background": "light"
     },
     "output_type": "display_data"
    }
   ],
   "source": [
    "# Plotear la señal\n",
    "plt.figure(figsize=(10, 6))\n",
    "plt.plot(xs, ys)\n",
    "plt.stem(xs,ys, 'b', )\n",
    "\n",
    "for i in range(0, len(illuminationTime)):\n",
    "    plt.stem(i,illuminationTime[i], 'r', )\n",
    "plt.axhline(0, color='black',linewidth=0.5)\n",
    "plt.axvline(0, color='black',linewidth=0.5)\n",
    "plt.grid(color = 'gray', linestyle = '--', linewidth = 0.5)\n",
    "plt.title('Señal Sinusoidal')\n",
    "# plt.xlabel('Tiempo (microsegundos)')\n",
    "# plt.ylabel('Amplitud')\n",
    "plt.legend()\n",
    "plt.show()"
   ]
  },
  {
   "cell_type": "code",
   "execution_count": 514,
   "id": "d1bfeabf",
   "metadata": {},
   "outputs": [],
   "source": [
    "decToHex_illumination\n",
    "listPostIllu = []\n",
    "if(patternPeriodEqualExposition == True):\n",
    "    listPostIllu = decToHex_illumination\n",
    "else:\n",
    "    for i in range(0, len(decToHex_illumination)):\n",
    "        listPostIllu.append(hex(postIllu))\n",
    "\n",
    "# listPostIllu"
   ]
  },
  {
   "cell_type": "code",
   "execution_count": 515,
   "id": "4bc02158",
   "metadata": {},
   "outputs": [],
   "source": [
    "if(triggerIn):\n",
    "    addWordTrigger = \"-TriggerIn\"\n",
    "else:\n",
    "    addWordTrigger = ''\n",
    "    \n",
    "if(cleanDMDAfterExposure):\n",
    "    addWordDMD = \"-DMD\"\n",
    "else:\n",
    "    addWordDMD = ''\n",
    "    \n",
    "if(fullSinus):\n",
    "    fullSin = ''\n",
    "else:\n",
    "    fullSin = \"-halfSin\"\n",
    "    \n",
    "if(patternPeriodEqualExposition):\n",
    "    addExpos = ''\n",
    "else:\n",
    "    addExpos = '-Exp'\n",
    "writeToFile = open(\"./Solutions/\"+color+\"-Sinusoid-\"+str(freq)+\"Hz\"+addWordTrigger+addWordDMD+fullSin+addExpos+\".ini\", \"w\")\n"
   ]
  },
  {
   "cell_type": "code",
   "execution_count": 516,
   "id": "8bac8b4b",
   "metadata": {},
   "outputs": [],
   "source": [
    "writeToFile.write(\"APPCONFIG.VERSION.SUBMINOR 0x0 ; \\n\")\n",
    "writeToFile.write(\"APPCONFIG.VERSION.MINOR 0x0 ; \\n\")\n",
    "writeToFile.write(\"APPCONFIG.VERSION.MAJOR 0x3 ; \\n\")\n",
    "writeToFile.write(\"DEFAULT.FIRMWARE_TAG 0x0 ; \\n\")\n",
    "writeToFile.write(\"DEFAULT.AUTOSTART 0x0 ; \\n\")\n",
    "writeToFile.write(\"DEFAULT.DISPMODE 0x1 ; \\n\")\n",
    "writeToFile.write(\"DEFAULT.SHORT_FLIP 0x0 ; \\n\")\n",
    "writeToFile.write(\"DEFAULT.LONG_FLIP 0x0 ; \\n\")\n",
    "writeToFile.write(\"DEFAULT.TRIG_OUT_1.POL 0x0 ; \\n\")\n",
    "writeToFile.write(\"DEFAULT.TRIG_OUT_1.RDELAY 0xbb ; \\n\")\n",
    "writeToFile.write(\"DEFAULT.TRIG_OUT_1.FDELAY 0xbb ; \\n\")\n",
    "writeToFile.write(\"DEFAULT.TRIG_OUT_2.POL 0x0 ; \\n\")\n",
    "writeToFile.write(\"DEFAULT.TRIG_OUT_2.WIDTH 0xbb ; \\n\")\n",
    "writeToFile.write(\"DEFAULT.TRIG_IN_1.DELAY 0x0 ; \\n\")\n",
    "# writeToFile.write(\"DEFAULT.TRIG_IN_1.DELAY \")\n",
    "# if(cleanDMDAfterExposure):\n",
    "#     writeToFile.write(\"0x0 ; \\n\")\n",
    "# else:\n",
    "#     writeToFile.write(\"0x1 ; \\n\")\n",
    "writeToFile.write(\"DEFAULT.TRIG_IN_2.POL 0x0 ; \\n\")\n",
    "writeToFile.write(\"DEFAULT.RED_STROBE.RDELAY 0xbb ; \\n\")\n",
    "writeToFile.write(\"DEFAULT.RED_STROBE.FDELAY 0xbb ; \\n\")\n",
    "writeToFile.write(\"DEFAULT.GRN_STROBE.RDELAY 0xbb ; \\n\")\n",
    "writeToFile.write(\"DEFAULT.GRN_STROBE.FDELAY 0xbb ; \\n\")\n",
    "writeToFile.write(\"DEFAULT.BLU_STROBE.RDELAY 0xbb ; \\n\")\n",
    "writeToFile.write(\"DEFAULT.BLU_STROBE.FDELAY 0xbb ; \\n\")\n",
    "writeToFile.write(\"DEFAULT.INVERTDATA 0x0 ; \\n\")\n",
    "writeToFile.write(\"DEFAULT.TESTPATTERN 0x0 ; \\n\")\n",
    "writeToFile.write(\"DEFAULT.LEDCURRENT_RED 0xff ; \\n\")\n",
    "writeToFile.write(\"DEFAULT.LEDCURRENT_GRN 0xff ; \\n\")\n",
    "writeToFile.write(\"DEFAULT.LEDCURRENT_BLU 0xff ; \\n\")\n",
    "\n",
    "writeToFile.write(\"DEFAULT.PATTERNCONFIG.PAT_EXPOSURE 0x0 ; \\n\")\n",
    "writeToFile.write(\"DEFAULT.PATTERNCONFIG.PAT_PERIOD 0x0 ; \\n\")\n",
    "\n",
    "# if(patternPeriodEqualExposition):\n",
    "#     writeToFile.write(\"DEFAULT.PATTERNCONFIG.PAT_EXPOSURE 0x0 ; \\n\")\n",
    "#     writeToFile.write(\"DEFAULT.PATTERNCONFIG.PAT_PERIOD 0x0 ; \\n\")\n",
    "# else:\n",
    "#     writeToFile.write(\"DEFAULT.PATTERNCONFIG.PAT_EXPOSURE \")\n",
    "#     writeToFile.write(hex(postIllu))\n",
    "#     writeToFile.write( \" ; \\n\")\n",
    "#     writeToFile.write(\"DEFAULT.PATTERNCONFIG.PAT_PERIOD \")\n",
    "#     writeToFile.write(hex(postIllu))\n",
    "#     writeToFile.write( \" ; \\n\")\n",
    "    \n",
    "writeToFile.write(\"DEFAULT.PATTERNCONFIG.PAT_MODE 0x0 ; \\n\")\n",
    "writeToFile.write(\"DEFAULT.PATTERNCONFIG.TRIG_MODE 0x4 ; \\n\")\n",
    "# if(triggerModeVsync):\n",
    "#     writeToFile.write(\"0x4 ; \\n\") Vsync\n",
    "# else:\n",
    "#     writeToFile.write(\"0x3 ; \\n\") Internal/External\n",
    "    \n",
    "writeToFile.write(\"DEFAULT.PATTERNCONFIG.PAT_REPEAT 0x1 ; \\n\")\n",
    "writeToFile.write(\"DEFAULT.PATTERNCONFIG.NUM_SPLASH 0x0 ; \\n\")\n",
    "writeToFile.write(\"DEFAULT.SPLASHLUT        0x0 ; \\n\")\n",
    "writeToFile.write(\"DEFAULT.PATTERNCONFIG.NUM_LUT_ENTRIES 0x17 ; \\n\")\n",
    "writeToFile.write(\"DEFAULT.PATTERNCONFIG.NUM_PATTERNS 0x17 ; \\n\")\n",
    "\n",
    "\n",
    "writeToFile.write(\"DEFAULT.SEQPATLUT \")\n",
    "\n",
    "for i in range(0, 24):\n",
    "    writeToFile.write(bitplaneParam[i] + \" \" + str(decToHex_illumination[i]) + \" \" + str(listPostIllu[i]) + \" \")\n",
    "writeToFile.write(\"\\n\")\n",
    "\n",
    "\n",
    "\n",
    "writeToFile.write(\"DEFAULT.LED_ENABLE_MAN_MODE 0x0 ; \\n\")\n",
    "writeToFile.write(\"DEFAULT.MAN_ENABLE_RED_LED 0x0 ; \\n\")\n",
    "writeToFile.write(\"DEFAULT.MAN_ENABLE_GRN_LED 0x0 ; \\n\")\n",
    "writeToFile.write(\"DEFAULT.MAN_ENABLE_BLU_LED 0x0 ; \\n\")\n",
    "writeToFile.write(\"DEFAULT.PORTCONFIG.PORT 0x0 ; \\n\")\n",
    "writeToFile.write(\"DEFAULT.PORTCONFIG.BPP 0x0 ; \\n\")\n",
    "writeToFile.write(\"DEFAULT.PORTCONFIG.PIX_FMT 0x0 ; \\n\")\n",
    "writeToFile.write(\"DEFAULT.PORTCONFIG.PORT_CLK 0x0 ; \\n\")\n",
    "writeToFile.write(\"DEFAULT.PORTCONFIG.ABC_MUX 0x0 ; \\n\")\n",
    "writeToFile.write(\"DEFAULT.PORTCONFIG.PIX_MODE 0x1 ; \\n\")\n",
    "writeToFile.write(\"DEFAULT.PORTCONFIG.SWAP_POL 0x0 ; \\n\")\n",
    "writeToFile.write(\"DEFAULT.PORTCONFIG.FLD_SEL 0x0 ; \\n\")\n",
    "writeToFile.write(\"PERIPHERALS.I2CADDRESS[0] 0x34 ; \\n\")\n",
    "writeToFile.write(\"PERIPHERALS.I2CADDRESS[1] 0x3a ; \\n\")\n",
    "writeToFile.write(\"PERIPHERALS.I2CBUSYGPIO_ENABLE 0x0 ; \\n\")\n",
    "writeToFile.write(\"PERIPHERALS.I2CBUSYGPIO_SELECT 0x0 ; \\n\")\n",
    "writeToFile.write(\"DATAPATH.SPLASHSTARTUPTIMEOUT 0x1388 ; \\n\")\n",
    "writeToFile.write(\"DATAPATH.SPLASHATSTARTUPENABLE 0x0 ; \\n\")\n",
    "writeToFile.write(\"MACHINE_DATA.COLORPROFILE_0_BRILLIANTCOLORLOOK 0x0 ;\")\n",
    "\n",
    "writeToFile.close()"
   ]
  },
  {
   "cell_type": "code",
   "execution_count": null,
   "id": "a674a6e6",
   "metadata": {},
   "outputs": [],
   "source": []
  },
  {
   "cell_type": "code",
   "execution_count": null,
   "id": "3c6bd8cd",
   "metadata": {},
   "outputs": [],
   "source": []
  },
  {
   "cell_type": "code",
   "execution_count": null,
   "id": "754f0259",
   "metadata": {},
   "outputs": [],
   "source": []
  }
 ],
 "metadata": {
  "kernelspec": {
   "display_name": "Python 3 (ipykernel)",
   "language": "python",
   "name": "python3"
  },
  "language_info": {
   "codemirror_mode": {
    "name": "ipython",
    "version": 3
   },
   "file_extension": ".py",
   "mimetype": "text/x-python",
   "name": "python",
   "nbconvert_exporter": "python",
   "pygments_lexer": "ipython3",
   "version": "3.9.12"
  }
 },
 "nbformat": 4,
 "nbformat_minor": 5
}
